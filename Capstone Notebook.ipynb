{
    "nbformat_minor": 1, 
    "cells": [
        {
            "source": "# IBM Capstone Project.", 
            "cell_type": "markdown", 
            "metadata": {}
        }, 
        {
            "execution_count": 1, 
            "cell_type": "code", 
            "metadata": {}, 
            "outputs": [], 
            "source": "from bs4 import BeautifulSoup\nimport requests\nimport pandas as pd\nimport numpy as np"
        }, 
        {
            "execution_count": 2, 
            "cell_type": "code", 
            "metadata": {}, 
            "outputs": [], 
            "source": "URL = 'https://en.wikipedia.org/wiki/List_of_postal_codes_of_Canada:_M'\nresponse = requests.get(URL)\nsoup = BeautifulSoup(response.text, 'html.parser')\n#print(soup) returns the html code of the page"
        }, 
        {
            "execution_count": 4, 
            "cell_type": "code", 
            "metadata": {}, 
            "outputs": [], 
            "source": "table = soup.find('table', {'class':'wikitable sortable'}).tbody\n#print(table) returns the html code of the table on the page"
        }, 
        {
            "execution_count": 9, 
            "cell_type": "code", 
            "metadata": {}, 
            "outputs": [], 
            "source": "rows = table.find_all('tr')\ncolumns = [v.text.replace('\\n', '') for v in rows[0].find_all('th')]"
        }, 
        {
            "execution_count": 10, 
            "cell_type": "code", 
            "metadata": {}, 
            "outputs": [
                {
                    "output_type": "stream", 
                    "name": "stdout", 
                    "text": "['Postcode', 'Borough', 'Neighbourhood']\n"
                }
            ], 
            "source": "print(columns)"
        }, 
        {
            "execution_count": 11, 
            "cell_type": "code", 
            "metadata": {}, 
            "outputs": [], 
            "source": "df = pd.DataFrame(columns=columns)#Create empty dataframe with the appropriate columns"
        }, 
        {
            "execution_count": 88, 
            "cell_type": "code", 
            "metadata": {}, 
            "outputs": [], 
            "source": "#Populate dataframe with the values on the wikipedia page\nfor i in range(1, len(rows)):\n    tds = rows[i].find_all('td')\n    \n    if len(tds) == 3:\n        values = [tds[0].text, tds[1].text, tds[2].text.replace('\\n', '')]\n        \n    else:\n        values = [td.text for td in tds]\n        \n    df = df.append(pd.Series(values, index=columns), ignore_index=True)"
        }, 
        {
            "execution_count": 89, 
            "cell_type": "code", 
            "metadata": {}, 
            "outputs": [
                {
                    "execution_count": 89, 
                    "metadata": {}, 
                    "data": {
                        "text/html": "<div>\n<style scoped>\n    .dataframe tbody tr th:only-of-type {\n        vertical-align: middle;\n    }\n\n    .dataframe tbody tr th {\n        vertical-align: top;\n    }\n\n    .dataframe thead th {\n        text-align: right;\n    }\n</style>\n<table border=\"1\" class=\"dataframe\">\n  <thead>\n    <tr style=\"text-align: right;\">\n      <th></th>\n      <th>Neighbourhood</th>\n      <th>Borough</th>\n    </tr>\n    <tr>\n      <th>Postcode</th>\n      <th></th>\n      <th></th>\n    </tr>\n  </thead>\n  <tbody>\n    <tr>\n      <th>M1B</th>\n      <td>Malvern, Rouge</td>\n      <td>Scarborough</td>\n    </tr>\n    <tr>\n      <th>M1C</th>\n      <td>Port Union, Rouge Hill, Highland Creek</td>\n      <td>Scarborough</td>\n    </tr>\n    <tr>\n      <th>M1E</th>\n      <td>Guildwood, Morningside, West Hill</td>\n      <td>Scarborough</td>\n    </tr>\n    <tr>\n      <th>M1G</th>\n      <td>Woburn</td>\n      <td>Scarborough</td>\n    </tr>\n    <tr>\n      <th>M1H</th>\n      <td>Cedarbrae</td>\n      <td>Scarborough</td>\n    </tr>\n    <tr>\n      <th>M1J</th>\n      <td>Scarborough Village</td>\n      <td>Scarborough</td>\n    </tr>\n    <tr>\n      <th>M1K</th>\n      <td>Kennedy Park, East Birchmount Park, Ionview</td>\n      <td>Scarborough</td>\n    </tr>\n    <tr>\n      <th>M1L</th>\n      <td>Oakridge, Golden Mile, Clairlea</td>\n      <td>Scarborough</td>\n    </tr>\n    <tr>\n      <th>M1M</th>\n      <td>Cliffside, Cliffcrest, Scarborough Village West</td>\n      <td>Scarborough</td>\n    </tr>\n    <tr>\n      <th>M1N</th>\n      <td>Cliffside West, Birch Cliff</td>\n      <td>Scarborough</td>\n    </tr>\n    <tr>\n      <th>M1P</th>\n      <td>Scarborough Town Centre, Dorset Park, Wexford ...</td>\n      <td>Scarborough</td>\n    </tr>\n    <tr>\n      <th>M1R</th>\n      <td>Maryvale, Wexford</td>\n      <td>Scarborough</td>\n    </tr>\n    <tr>\n      <th>M1S</th>\n      <td>Agincourt</td>\n      <td>Scarborough</td>\n    </tr>\n    <tr>\n      <th>M1T</th>\n      <td>Clarks Corners, Sullivan, Tam O'Shanter</td>\n      <td>Scarborough</td>\n    </tr>\n    <tr>\n      <th>M1V</th>\n      <td>Steeles East, Agincourt North, L'Amoreaux East...</td>\n      <td>Scarborough</td>\n    </tr>\n    <tr>\n      <th>M1W</th>\n      <td>L'Amoreaux West</td>\n      <td>Scarborough</td>\n    </tr>\n    <tr>\n      <th>M1X</th>\n      <td>Upper Rouge</td>\n      <td>Scarborough</td>\n    </tr>\n    <tr>\n      <th>M2H</th>\n      <td>Hillcrest Village</td>\n      <td>North York</td>\n    </tr>\n    <tr>\n      <th>M2J</th>\n      <td>Fairview, Henry Farm, Oriole</td>\n      <td>North York</td>\n    </tr>\n    <tr>\n      <th>M2K</th>\n      <td>Bayview Village</td>\n      <td>North York</td>\n    </tr>\n    <tr>\n      <th>M2L</th>\n      <td>Silver Hills, York Mills</td>\n      <td>North York</td>\n    </tr>\n    <tr>\n      <th>M2M</th>\n      <td>Newtonbrook, Willowdale</td>\n      <td>North York</td>\n    </tr>\n    <tr>\n      <th>M2N</th>\n      <td>Willowdale South</td>\n      <td>North York</td>\n    </tr>\n    <tr>\n      <th>M2P</th>\n      <td>York Mills West</td>\n      <td>North York</td>\n    </tr>\n    <tr>\n      <th>M2R</th>\n      <td>Willowdale West</td>\n      <td>North York</td>\n    </tr>\n    <tr>\n      <th>M3A</th>\n      <td>Parkwoods</td>\n      <td>North York</td>\n    </tr>\n    <tr>\n      <th>M3B</th>\n      <td>Don Mills North</td>\n      <td>North York</td>\n    </tr>\n    <tr>\n      <th>M3C</th>\n      <td>Don Mills South, Flemingdon Park</td>\n      <td>North York</td>\n    </tr>\n    <tr>\n      <th>M3H</th>\n      <td>Wilson Heights, Bathurst Manor, Downsview North</td>\n      <td>North York</td>\n    </tr>\n    <tr>\n      <th>M3J</th>\n      <td>Northwood Park, York University</td>\n      <td>North York</td>\n    </tr>\n    <tr>\n      <th>...</th>\n      <td>...</td>\n      <td>...</td>\n    </tr>\n    <tr>\n      <th>M6C</th>\n      <td>Humewood-Cedarvale</td>\n      <td>York</td>\n    </tr>\n    <tr>\n      <th>M6E</th>\n      <td>Caledonia-Fairbanks</td>\n      <td>York</td>\n    </tr>\n    <tr>\n      <th>M6G</th>\n      <td>Christie</td>\n      <td>Downtown Toronto</td>\n    </tr>\n    <tr>\n      <th>M6H</th>\n      <td>Dufferin, Dovercourt Village</td>\n      <td>West Toronto</td>\n    </tr>\n    <tr>\n      <th>M6J</th>\n      <td>Little Portugal, Trinity</td>\n      <td>West Toronto</td>\n    </tr>\n    <tr>\n      <th>M6K</th>\n      <td>Brockton, Exhibition Place, Parkdale Village</td>\n      <td>West Toronto</td>\n    </tr>\n    <tr>\n      <th>M6L</th>\n      <td>Downsview, Upwood Park, North Park</td>\n      <td>North York</td>\n    </tr>\n    <tr>\n      <th>M6M</th>\n      <td>Mount Dennis, Del Ray, Silverthorn, Keelesdale</td>\n      <td>York</td>\n    </tr>\n    <tr>\n      <th>M6N</th>\n      <td>The Junction North, Runnymede</td>\n      <td>York</td>\n    </tr>\n    <tr>\n      <th>M6P</th>\n      <td>High Park, The Junction South</td>\n      <td>West Toronto</td>\n    </tr>\n    <tr>\n      <th>M6R</th>\n      <td>Parkdale, Roncesvalles</td>\n      <td>West Toronto</td>\n    </tr>\n    <tr>\n      <th>M6S</th>\n      <td>Runnymede, Swansea</td>\n      <td>West Toronto</td>\n    </tr>\n    <tr>\n      <th>M7A</th>\n      <td>Queen's Park</td>\n      <td>Queen's Park</td>\n    </tr>\n    <tr>\n      <th>M7R</th>\n      <td>Canada Post Gateway Processing Centre</td>\n      <td>Mississauga</td>\n    </tr>\n    <tr>\n      <th>M7Y</th>\n      <td>Business Reply Mail Processing Centre 969 Eastern</td>\n      <td>East Toronto</td>\n    </tr>\n    <tr>\n      <th>M8V</th>\n      <td>New Toronto, Humber Bay Shores, Mimico South</td>\n      <td>Etobicoke</td>\n    </tr>\n    <tr>\n      <th>M8W</th>\n      <td>Long Branch, Alderwood</td>\n      <td>Etobicoke</td>\n    </tr>\n    <tr>\n      <th>M8X</th>\n      <td>The Kingsway, Montgomery Road, Old Mill North</td>\n      <td>Etobicoke</td>\n    </tr>\n    <tr>\n      <th>M8Y</th>\n      <td>Mimico NE, The Queensway East, Humber Bay, Kin...</td>\n      <td>Etobicoke</td>\n    </tr>\n    <tr>\n      <th>M8Z</th>\n      <td>Kingsway Park South West, Mimico NW, The Queen...</td>\n      <td>Etobicoke</td>\n    </tr>\n    <tr>\n      <th>M9A</th>\n      <td>Islington Avenue</td>\n      <td>Etobicoke</td>\n    </tr>\n    <tr>\n      <th>M9B</th>\n      <td>Martin Grove, Islington, Cloverdale, Princess ...</td>\n      <td>Etobicoke</td>\n    </tr>\n    <tr>\n      <th>M9C</th>\n      <td>Bloordale Gardens, Eringate, Markland Wood, Ol...</td>\n      <td>Etobicoke</td>\n    </tr>\n    <tr>\n      <th>M9L</th>\n      <td>Humber Summit</td>\n      <td>North York</td>\n    </tr>\n    <tr>\n      <th>M9M</th>\n      <td>Humberlea, Emery</td>\n      <td>North York</td>\n    </tr>\n    <tr>\n      <th>M9N</th>\n      <td>Weston</td>\n      <td>York</td>\n    </tr>\n    <tr>\n      <th>M9P</th>\n      <td>Westmount</td>\n      <td>Etobicoke</td>\n    </tr>\n    <tr>\n      <th>M9R</th>\n      <td>St. Phillips, Richview Gardens, Martin Grove G...</td>\n      <td>Etobicoke</td>\n    </tr>\n    <tr>\n      <th>M9V</th>\n      <td>Jamestown, Silverstone, Thistletown, Beaumond ...</td>\n      <td>Etobicoke</td>\n    </tr>\n    <tr>\n      <th>M9W</th>\n      <td>Northwest</td>\n      <td>Etobicoke</td>\n    </tr>\n  </tbody>\n</table>\n<p>103 rows \u00d7 2 columns</p>\n</div>", 
                        "text/plain": "                                              Neighbourhood           Borough\nPostcode                                                                     \nM1B                                          Malvern, Rouge       Scarborough\nM1C                  Port Union, Rouge Hill, Highland Creek       Scarborough\nM1E                       Guildwood, Morningside, West Hill       Scarborough\nM1G                                                  Woburn       Scarborough\nM1H                                               Cedarbrae       Scarborough\nM1J                                     Scarborough Village       Scarborough\nM1K             Kennedy Park, East Birchmount Park, Ionview       Scarborough\nM1L                         Oakridge, Golden Mile, Clairlea       Scarborough\nM1M         Cliffside, Cliffcrest, Scarborough Village West       Scarborough\nM1N                             Cliffside West, Birch Cliff       Scarborough\nM1P       Scarborough Town Centre, Dorset Park, Wexford ...       Scarborough\nM1R                                       Maryvale, Wexford       Scarborough\nM1S                                               Agincourt       Scarborough\nM1T                 Clarks Corners, Sullivan, Tam O'Shanter       Scarborough\nM1V       Steeles East, Agincourt North, L'Amoreaux East...       Scarborough\nM1W                                         L'Amoreaux West       Scarborough\nM1X                                             Upper Rouge       Scarborough\nM2H                                       Hillcrest Village        North York\nM2J                            Fairview, Henry Farm, Oriole        North York\nM2K                                         Bayview Village        North York\nM2L                                Silver Hills, York Mills        North York\nM2M                                 Newtonbrook, Willowdale        North York\nM2N                                        Willowdale South        North York\nM2P                                         York Mills West        North York\nM2R                                         Willowdale West        North York\nM3A                                               Parkwoods        North York\nM3B                                         Don Mills North        North York\nM3C                        Don Mills South, Flemingdon Park        North York\nM3H         Wilson Heights, Bathurst Manor, Downsview North        North York\nM3J                         Northwood Park, York University        North York\n...                                                     ...               ...\nM6C                                      Humewood-Cedarvale              York\nM6E                                     Caledonia-Fairbanks              York\nM6G                                                Christie  Downtown Toronto\nM6H                            Dufferin, Dovercourt Village      West Toronto\nM6J                                Little Portugal, Trinity      West Toronto\nM6K            Brockton, Exhibition Place, Parkdale Village      West Toronto\nM6L                      Downsview, Upwood Park, North Park        North York\nM6M          Mount Dennis, Del Ray, Silverthorn, Keelesdale              York\nM6N                           The Junction North, Runnymede              York\nM6P                           High Park, The Junction South      West Toronto\nM6R                                  Parkdale, Roncesvalles      West Toronto\nM6S                                      Runnymede, Swansea      West Toronto\nM7A                                            Queen's Park      Queen's Park\nM7R                   Canada Post Gateway Processing Centre       Mississauga\nM7Y       Business Reply Mail Processing Centre 969 Eastern      East Toronto\nM8V            New Toronto, Humber Bay Shores, Mimico South         Etobicoke\nM8W                                  Long Branch, Alderwood         Etobicoke\nM8X           The Kingsway, Montgomery Road, Old Mill North         Etobicoke\nM8Y       Mimico NE, The Queensway East, Humber Bay, Kin...         Etobicoke\nM8Z       Kingsway Park South West, Mimico NW, The Queen...         Etobicoke\nM9A                                        Islington Avenue         Etobicoke\nM9B       Martin Grove, Islington, Cloverdale, Princess ...         Etobicoke\nM9C       Bloordale Gardens, Eringate, Markland Wood, Ol...         Etobicoke\nM9L                                           Humber Summit        North York\nM9M                                        Humberlea, Emery        North York\nM9N                                                  Weston              York\nM9P                                               Westmount         Etobicoke\nM9R       St. Phillips, Richview Gardens, Martin Grove G...         Etobicoke\nM9V       Jamestown, Silverstone, Thistletown, Beaumond ...         Etobicoke\nM9W                                               Northwest         Etobicoke\n\n[103 rows x 2 columns]"
                    }, 
                    "output_type": "execute_result"
                }
            ], 
            "source": "#Remove all rows with 'Not assigned' borough values\ndf = df[df.Borough != 'Not assigned']\n\n#If postal code is listed twice, combine the neighbourhoods\nnew_df = df.groupby(\"Postcode\").agg(lambda x:', '.join(set(x)))\n\n#If borough but no neighbourhood, then the neighbourhood will be the same as the borough\nnew_df.loc[new_df['Neighbourhood'] == \"Not assigned\",'Neighbourhood'] = new_df.loc[new_df['Neighbourhood'] == \"Not assigned\",'Borough']\n\n\nnew_df"
        }, 
        {
            "execution_count": 90, 
            "cell_type": "code", 
            "metadata": {}, 
            "outputs": [
                {
                    "execution_count": 90, 
                    "metadata": {}, 
                    "data": {
                        "text/plain": "(1580, 3)"
                    }, 
                    "output_type": "execute_result"
                }
            ], 
            "source": ".shape"
        }, 
        {
            "execution_count": null, 
            "cell_type": "code", 
            "metadata": {}, 
            "outputs": [], 
            "source": ""
        }
    ], 
    "metadata": {
        "kernelspec": {
            "display_name": "Python 3.5", 
            "name": "python3", 
            "language": "python"
        }, 
        "language_info": {
            "mimetype": "text/x-python", 
            "nbconvert_exporter": "python", 
            "version": "3.5.5", 
            "name": "python", 
            "file_extension": ".py", 
            "pygments_lexer": "ipython3", 
            "codemirror_mode": {
                "version": 3, 
                "name": "ipython"
            }
        }
    }, 
    "nbformat": 4
}